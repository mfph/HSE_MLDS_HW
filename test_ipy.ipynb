{
 "cells": [
  {
   "cell_type": "code",
   "execution_count": 50,
   "metadata": {},
   "outputs": [
    {
     "name": "stdout",
     "output_type": "stream",
     "text": [
      "Prediction:  [611351.61093946]\n"
     ]
    },
    {
     "name": "stderr",
     "output_type": "stream",
     "text": [
      "/Users/mike/opt/anaconda3/lib/python3.9/site-packages/sklearn/utils/validation.py:1688: FutureWarning: Feature names only support names that are all strings. Got feature names with dtypes: ['int', 'str']. An error will be raised in 1.2.\n",
      "  warnings.warn(\n"
     ]
    }
   ],
   "source": [
    "#from fastapi import FastAPI, File, UploadFile, Request\n",
    "#from pydantic import BaseModel\n",
    "#from typing import List\n",
    "\n",
    "#from fastapi.templating import Jinja2Templates\n",
    "#from fastapi.staticfiles import StaticFiles\n",
    "#from joblib import load\n",
    "#from sklearn.preprocessing import OneHotEncoder\n",
    "\n",
    "\n",
    "\n",
    "\n",
    "from fastapi.encoders import jsonable_encoder\n",
    "\n",
    "import pickle\n",
    "import pandas as pd\n",
    "\n",
    "\n",
    "\n",
    "item = {\n",
    "  \"name\": \"unknown\",\n",
    "  \"year\": 2010,\n",
    "  \"selling_price\": \"unknown\",\n",
    "  \"km_driven\": 168000,\n",
    "  \"fuel\": \"Diesel\",\n",
    "  \"seller_type\": \"Individual\",\n",
    "  \"transmission\": \"Manual\",\n",
    "  \"owner\": \"First Owner\",\n",
    "  \"mileage\": 14.0,\n",
    "  \"engine\": 2498,\n",
    "  \"max_power\": 112,\n",
    "  \"torque\": \"unknown\",\n",
    "  \"seats\": 7\n",
    "  }\n",
    "\n",
    "\n",
    "loaded_model = pickle.load(open('model_.pkl','rb'))\n",
    "onehotencoder = pickle.load(open('encoder_.pkl','rb'))\n",
    "standardscaler = pickle.load(open('standardscaler_.pkl','rb'))\n",
    "\n",
    "\n",
    "data = pd.DataFrame(jsonable_encoder(item), index=[0])\n",
    "data = data.drop(['name', 'selling_price', 'torque'], axis=1)\n",
    "\n",
    "cat_features_mask = (data.dtypes == \"object\").values\n",
    "data_X = data[data.columns[~cat_features_mask]]\n",
    "\n",
    "data_X_st_np = standardscaler.transform(data_X)\n",
    "\n",
    "data_X_st = pd.DataFrame(data=data_X_st_np, columns=data_X.columns)\n",
    "data_X_st_noseat = data_X_st.drop(['seats'], axis = 1)\n",
    "\n",
    "data['seats'] = data['seats'].astype(\"object\")\n",
    "cat_features_mask = (data.dtypes == \"object\").values\n",
    "data_only_cat = data[data.columns[cat_features_mask]]\n",
    "\n",
    "data_only_cat_OHE_np = onehotencoder.transform(data_only_cat).toarray()\n",
    "data_only_cat_OHE = pd.DataFrame(data=data_only_cat_OHE_np)\n",
    "\n",
    "\n",
    "data2 = pd.concat([data_X_st_noseat, data_only_cat_OHE], axis=1)\n",
    "\n",
    "prediction = loaded_model.predict(data2)\n",
    "\n",
    "print('Prediction: ', prediction)"
   ]
  }
 ],
 "metadata": {
  "kernelspec": {
   "display_name": "Python 3.9.12 ('base')",
   "language": "python",
   "name": "python3"
  },
  "language_info": {
   "codemirror_mode": {
    "name": "ipython",
    "version": 3
   },
   "file_extension": ".py",
   "mimetype": "text/x-python",
   "name": "python",
   "nbconvert_exporter": "python",
   "pygments_lexer": "ipython3",
   "version": "3.9.12"
  },
  "orig_nbformat": 4,
  "vscode": {
   "interpreter": {
    "hash": "c6db8c5fd8d01916d37fe0e434dd319f9a651ecb2238db7761235e698e9c3eab"
   }
  }
 },
 "nbformat": 4,
 "nbformat_minor": 2
}
